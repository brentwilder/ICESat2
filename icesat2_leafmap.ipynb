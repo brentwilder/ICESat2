{
 "metadata": {
  "language_info": {
   "codemirror_mode": {
    "name": "ipython",
    "version": 3
   },
   "file_extension": ".py",
   "mimetype": "text/x-python",
   "name": "python",
   "nbconvert_exporter": "python",
   "pygments_lexer": "ipython3",
   "version": "3.8.5"
  },
  "orig_nbformat": 2,
  "kernelspec": {
   "name": "python385jvsc74a57bd0916dbcbb3f70747c44a77c7bcd40155683ae19c65e1c03b4aa3499c5328201f1",
   "display_name": "Python 3.8.5 64-bit"
  },
  "metadata": {
   "interpreter": {
    "hash": "916dbcbb3f70747c44a77c7bcd40155683ae19c65e1c03b4aa3499c5328201f1"
   }
  }
 },
 "nbformat": 4,
 "nbformat_minor": 2,
 "cells": [
  {
   "source": [
    "## Mapping collections over a transect in Madagascar using leafmap\n",
    "### B.A. Wilder\n",
    "### 05/27/21"
   ],
   "cell_type": "markdown",
   "metadata": {}
  },
  {
   "cell_type": "code",
   "execution_count": 2,
   "metadata": {},
   "outputs": [],
   "source": [
    "import os\n",
    "import leafmap.leafmap as leafmap"
   ]
  },
  {
   "cell_type": "code",
   "execution_count": 4,
   "metadata": {},
   "outputs": [],
   "source": [
    "in_csv = 'https://raw.githubusercontent.com/bwilder95/ICESat2/main/data/elev_all.csv'"
   ]
  },
  {
   "cell_type": "code",
   "execution_count": 5,
   "metadata": {},
   "outputs": [
    {
     "output_type": "execute_result",
     "data": {
      "text/plain": [
       "      Unnamed: 0  segment_id_beg  segment_id_end  longitude   latitude  \\\n",
       "0              1         1899104         1899108  48.822369 -19.471272   \n",
       "1              3         1899119         1899123  48.822083 -19.468573   \n",
       "2              7         1899149         1899153  48.821507 -19.463175   \n",
       "3              8         1899159         1899163  48.821312 -19.461374   \n",
       "4              9         1899164         1899168  48.821220 -19.460476   \n",
       "...          ...             ...             ...        ...        ...   \n",
       "8555       13413         1900697         1900701  48.698280 -19.193394   \n",
       "8556       13415         1900707         1900711  48.698097 -19.191593   \n",
       "8557       13416         1900712         1900716  48.698002 -19.190693   \n",
       "8558       13419         1900727         1900731  48.697731 -19.187992   \n",
       "8559       13421         1900737         1900741  48.697556 -19.186192   \n",
       "\n",
       "      h_te_best_fit  h_te_uncertainty   h_canopy  h_canopy_uncertainty  \\\n",
       "0          4.171798          0.051212  23.092213              0.212311   \n",
       "1          6.851965          0.079381  20.755688              0.437897   \n",
       "2          3.647837          0.051369  13.096946              0.223928   \n",
       "3          1.953174          0.014679  11.653021              0.111339   \n",
       "4          0.809106          0.002609  12.249290              0.023029   \n",
       "...             ...               ...        ...                   ...   \n",
       "8555     237.234040         21.618078  11.231400              6.008314   \n",
       "8556     227.112400         12.023769   9.336609              4.347634   \n",
       "8557     219.561170          1.676373  11.981598              2.082169   \n",
       "8558     222.364260          7.449132  11.505859              1.747406   \n",
       "8559     229.622390         15.224071  20.740082              8.230626   \n",
       "\n",
       "      track_id  beam                                          file_name  \n",
       "0          943  gt3r  processed_ATL08_20201124232633_09430914_004_01.h5  \n",
       "1          943  gt3r  processed_ATL08_20201124232633_09430914_004_01.h5  \n",
       "2          943  gt3r  processed_ATL08_20201124232633_09430914_004_01.h5  \n",
       "3          943  gt3r  processed_ATL08_20201124232633_09430914_004_01.h5  \n",
       "4          943  gt3r  processed_ATL08_20201124232633_09430914_004_01.h5  \n",
       "...        ...   ...                                                ...  \n",
       "8555       943  gt1l  processed_ATL08_20200527080656_09430714_004_01.h5  \n",
       "8556       943  gt1l  processed_ATL08_20200527080656_09430714_004_01.h5  \n",
       "8557       943  gt1l  processed_ATL08_20200527080656_09430714_004_01.h5  \n",
       "8558       943  gt1l  processed_ATL08_20200527080656_09430714_004_01.h5  \n",
       "8559       943  gt1l  processed_ATL08_20200527080656_09430714_004_01.h5  \n",
       "\n",
       "[8560 rows x 12 columns]"
      ],
      "text/html": "<div>\n<style scoped>\n    .dataframe tbody tr th:only-of-type {\n        vertical-align: middle;\n    }\n\n    .dataframe tbody tr th {\n        vertical-align: top;\n    }\n\n    .dataframe thead th {\n        text-align: right;\n    }\n</style>\n<table border=\"1\" class=\"dataframe\">\n  <thead>\n    <tr style=\"text-align: right;\">\n      <th></th>\n      <th>Unnamed: 0</th>\n      <th>segment_id_beg</th>\n      <th>segment_id_end</th>\n      <th>longitude</th>\n      <th>latitude</th>\n      <th>h_te_best_fit</th>\n      <th>h_te_uncertainty</th>\n      <th>h_canopy</th>\n      <th>h_canopy_uncertainty</th>\n      <th>track_id</th>\n      <th>beam</th>\n      <th>file_name</th>\n    </tr>\n  </thead>\n  <tbody>\n    <tr>\n      <th>0</th>\n      <td>1</td>\n      <td>1899104</td>\n      <td>1899108</td>\n      <td>48.822369</td>\n      <td>-19.471272</td>\n      <td>4.171798</td>\n      <td>0.051212</td>\n      <td>23.092213</td>\n      <td>0.212311</td>\n      <td>943</td>\n      <td>gt3r</td>\n      <td>processed_ATL08_20201124232633_09430914_004_01.h5</td>\n    </tr>\n    <tr>\n      <th>1</th>\n      <td>3</td>\n      <td>1899119</td>\n      <td>1899123</td>\n      <td>48.822083</td>\n      <td>-19.468573</td>\n      <td>6.851965</td>\n      <td>0.079381</td>\n      <td>20.755688</td>\n      <td>0.437897</td>\n      <td>943</td>\n      <td>gt3r</td>\n      <td>processed_ATL08_20201124232633_09430914_004_01.h5</td>\n    </tr>\n    <tr>\n      <th>2</th>\n      <td>7</td>\n      <td>1899149</td>\n      <td>1899153</td>\n      <td>48.821507</td>\n      <td>-19.463175</td>\n      <td>3.647837</td>\n      <td>0.051369</td>\n      <td>13.096946</td>\n      <td>0.223928</td>\n      <td>943</td>\n      <td>gt3r</td>\n      <td>processed_ATL08_20201124232633_09430914_004_01.h5</td>\n    </tr>\n    <tr>\n      <th>3</th>\n      <td>8</td>\n      <td>1899159</td>\n      <td>1899163</td>\n      <td>48.821312</td>\n      <td>-19.461374</td>\n      <td>1.953174</td>\n      <td>0.014679</td>\n      <td>11.653021</td>\n      <td>0.111339</td>\n      <td>943</td>\n      <td>gt3r</td>\n      <td>processed_ATL08_20201124232633_09430914_004_01.h5</td>\n    </tr>\n    <tr>\n      <th>4</th>\n      <td>9</td>\n      <td>1899164</td>\n      <td>1899168</td>\n      <td>48.821220</td>\n      <td>-19.460476</td>\n      <td>0.809106</td>\n      <td>0.002609</td>\n      <td>12.249290</td>\n      <td>0.023029</td>\n      <td>943</td>\n      <td>gt3r</td>\n      <td>processed_ATL08_20201124232633_09430914_004_01.h5</td>\n    </tr>\n    <tr>\n      <th>...</th>\n      <td>...</td>\n      <td>...</td>\n      <td>...</td>\n      <td>...</td>\n      <td>...</td>\n      <td>...</td>\n      <td>...</td>\n      <td>...</td>\n      <td>...</td>\n      <td>...</td>\n      <td>...</td>\n      <td>...</td>\n    </tr>\n    <tr>\n      <th>8555</th>\n      <td>13413</td>\n      <td>1900697</td>\n      <td>1900701</td>\n      <td>48.698280</td>\n      <td>-19.193394</td>\n      <td>237.234040</td>\n      <td>21.618078</td>\n      <td>11.231400</td>\n      <td>6.008314</td>\n      <td>943</td>\n      <td>gt1l</td>\n      <td>processed_ATL08_20200527080656_09430714_004_01.h5</td>\n    </tr>\n    <tr>\n      <th>8556</th>\n      <td>13415</td>\n      <td>1900707</td>\n      <td>1900711</td>\n      <td>48.698097</td>\n      <td>-19.191593</td>\n      <td>227.112400</td>\n      <td>12.023769</td>\n      <td>9.336609</td>\n      <td>4.347634</td>\n      <td>943</td>\n      <td>gt1l</td>\n      <td>processed_ATL08_20200527080656_09430714_004_01.h5</td>\n    </tr>\n    <tr>\n      <th>8557</th>\n      <td>13416</td>\n      <td>1900712</td>\n      <td>1900716</td>\n      <td>48.698002</td>\n      <td>-19.190693</td>\n      <td>219.561170</td>\n      <td>1.676373</td>\n      <td>11.981598</td>\n      <td>2.082169</td>\n      <td>943</td>\n      <td>gt1l</td>\n      <td>processed_ATL08_20200527080656_09430714_004_01.h5</td>\n    </tr>\n    <tr>\n      <th>8558</th>\n      <td>13419</td>\n      <td>1900727</td>\n      <td>1900731</td>\n      <td>48.697731</td>\n      <td>-19.187992</td>\n      <td>222.364260</td>\n      <td>7.449132</td>\n      <td>11.505859</td>\n      <td>1.747406</td>\n      <td>943</td>\n      <td>gt1l</td>\n      <td>processed_ATL08_20200527080656_09430714_004_01.h5</td>\n    </tr>\n    <tr>\n      <th>8559</th>\n      <td>13421</td>\n      <td>1900737</td>\n      <td>1900741</td>\n      <td>48.697556</td>\n      <td>-19.186192</td>\n      <td>229.622390</td>\n      <td>15.224071</td>\n      <td>20.740082</td>\n      <td>8.230626</td>\n      <td>943</td>\n      <td>gt1l</td>\n      <td>processed_ATL08_20200527080656_09430714_004_01.h5</td>\n    </tr>\n  </tbody>\n</table>\n<p>8560 rows × 12 columns</p>\n</div>"
     },
     "metadata": {},
     "execution_count": 5
    }
   ],
   "source": [
    "df = leafmap.csv_to_pandas(in_csv)\n",
    "df"
   ]
  },
  {
   "cell_type": "code",
   "execution_count": 6,
   "metadata": {},
   "outputs": [
    {
     "output_type": "display_data",
     "data": {
      "text/plain": "Map(center=[-19.2, 48.5], controls=(ZoomControl(options=['position', 'zoom_in_text', 'zoom_in_title', 'zoom_ou…",
      "application/vnd.jupyter.widget-view+json": {
       "version_major": 2,
       "version_minor": 0,
       "model_id": "2943922bd0a0478591238362dc17f664"
      }
     },
     "metadata": {}
    }
   ],
   "source": [
    "Map = leafmap.Map(center=[-19.2, 48.5], zoom=5, google_map=\"HYBRID\")\n",
    "Map.add_xy_data(in_csv, x=\"longitude\", y=\"latitude\", layer_name=\"Measurements\")\n",
    "Map"
   ]
  }
 ]
}
